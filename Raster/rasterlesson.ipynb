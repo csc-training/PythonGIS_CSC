{
 "cells": [
  {
   "cell_type": "markdown",
   "metadata": {},
   "source": [
    "# Handling Raster data in Python\n",
    "\n",
    "## Automatized data download\n",
    "\n",
    "\n",
    "For this lesson, we need to download data from couple of different places. For this purpose I will show\n",
    "how to download data automatically using Python programming which might be quite useful thing to know.\n",
    "\n",
    "The data files that we are using in this tutorial will be obtained from [PaITuli spatial data service ](https://avaa.tdata.fi/web/paituli/latauspalvelu).\n",
    "We will be using Landsat 8 image from Helsinki area produced by NASA, USGS & Latuviitta which I have already clipped to reduce the size of the file (raster files are often fairly large in size),\n",
    "and a 2mx2m Digital Elevation Model (DEM) produced by National Land Survey of Finland.\n",
    "\n",
    "You can download those files into your computer automatically with following script in which we will be using [urllib module](https://docs.python.org/3/library/urllib.html) to download the data with Python:\n",
    "\n"
   ]
  },
  {
   "cell_type": "code",
   "execution_count": null,
   "metadata": {},
   "outputs": [],
   "source": [
    "import os\n",
    "import urllib\n",
    "\n",
    "def get_filename(url):\n",
    "    \"\"\"\n",
    "    Parses filename from given url\n",
    "    \"\"\"\n",
    "    if url.find('/'):\n",
    "        return url.rsplit('/', 1)[1]\n",
    "\n",
    "# Filepaths\n",
    "outdir = r\"data\"\n",
    "\n",
    "# File locations\n",
    "url_list = [\"https://github.com/Automating-GIS-processes/CSC18/raw/master/data/Helsinki_masked_p188r018_7t20020529_z34__LV-FIN.tif\"]\n",
    "\n",
    "# Create folder if it does no exist\n",
    "if not os.path.exists(outdir):\n",
    "    os.makedirs(outdir)\n",
    "\n",
    "# Download files\n",
    "for url in url_list:\n",
    "    # Parse filename\n",
    "    fname = get_filename(url)\n",
    "    outfp = os.path.join(outdir, fname)\n",
    "    # Download the file if it does not exist already\n",
    "    if not os.path.exists(outfp):\n",
    "        print(\"Downloading\", fname)\n",
    "        r = urllib.request.urlretrieve(url, outfp)"
   ]
  },
  {
   "cell_type": "markdown",
   "metadata": {},
   "source": [
    "## Reading raster files with Rasterio\n",
    "\n",
    "[Rasterio](https://mapbox.github.io/rasterio/) is a highly useful module for raster processing which you can use for reading and writing [several different raster formats](http://www.gdal.org/formats_list.html) in Python. Rasterio is based on [GDAL](http://www.gdal.org/) and Python automatically registers all known GDAL drivers for reading supported\n",
    "formats when importing the module. Most common file formats include for example [TIFF and GeoTIFF](http://www.gdal.org/frmt_gtiff.html),\n",
    "[ASCII Grid](http://www.gdal.org/frmt_various.html#AAIGrid) and [Erdas Imagine .img](http://www.gdal.org/frmt_hfa.html) -files.\n",
    "\n",
    "[Landsat 8](http://landsat.gsfc.nasa.gov/landsat-8/landsat-8-bands) bands are stored as separate GeoTIFF -files in the original package. Each band contains information of surface reflectance from different ranges of the electromagnetic spectrum.\n",
    "\n",
    "### Download data\n",
    "\n",
    "**Download the data** package from [here](http://www.helsinki.fi/science/accessibility/opetus/autogis/L5_data.zip). The package contains various TIF-files that will be explored during the tutorials. \n",
    "\n",
    "Let's start with inspecting one of the files we downloaded:\n"
   ]
  },
  {
   "cell_type": "code",
   "execution_count": null,
   "metadata": {},
   "outputs": [],
   "source": [
    "# import needed libraries\n",
    "import rasterio\n",
    "import os\n",
    "import numpy as np\n",
    "%matplotlib inline\n",
    "\n",
    "# Data dir\n",
    "data_dir = \"L5_data\"\n",
    "fp = os.path.join(data_dir, \"Helsinki_masked_p188r018_7t20020529_z34__LV-FIN.tif\")\n",
    "\n",
    "# Open the file:\n",
    "raster = rasterio.open(fp)\n",
    "\n",
    "# Check type of the variable 'raster'\n",
    "type(raster)"
   ]
  },
  {
   "cell_type": "markdown",
   "metadata": {},
   "source": [
    "Okey so from here we can see that our `raster` variable is a `rasterio._io.RasterReader` type which means that we have opened the file for reading."
   ]
  },
  {
   "cell_type": "markdown",
   "metadata": {},
   "source": [
    "## Read raster file properties\n",
    "\n",
    "Let's have a closer look at the properties of the file:"
   ]
  },
  {
   "cell_type": "code",
   "execution_count": null,
   "metadata": {},
   "outputs": [],
   "source": [
    "# Projection\n",
    "raster.crs"
   ]
  },
  {
   "cell_type": "code",
   "execution_count": null,
   "metadata": {},
   "outputs": [],
   "source": [
    "# Affine transform (how raster is scaled, rotated, skewed, and/or translated)\n",
    "raster.transform\n"
   ]
  },
  {
   "cell_type": "code",
   "execution_count": null,
   "metadata": {},
   "outputs": [],
   "source": [
    "# Dimensions\n",
    "print(raster.width)\n",
    "print(raster.height)\n",
    "\n"
   ]
  },
  {
   "cell_type": "code",
   "execution_count": null,
   "metadata": {},
   "outputs": [],
   "source": [
    "# Number of bands\n",
    "raster.count\n"
   ]
  },
  {
   "cell_type": "code",
   "execution_count": null,
   "metadata": {},
   "outputs": [],
   "source": [
    "# Bounds of the file\n",
    "raster.bounds"
   ]
  },
  {
   "cell_type": "code",
   "execution_count": null,
   "metadata": {},
   "outputs": [],
   "source": [
    "# Driver (data format)\n",
    "raster.driver"
   ]
  },
  {
   "cell_type": "code",
   "execution_count": null,
   "metadata": {},
   "outputs": [],
   "source": [
    "# No data values for all channels\n",
    "raster.nodatavals"
   ]
  },
  {
   "cell_type": "code",
   "execution_count": null,
   "metadata": {},
   "outputs": [],
   "source": [
    "# All Metadata for the whole raster dataset\n",
    "raster.meta"
   ]
  },
  {
   "cell_type": "markdown",
   "metadata": {},
   "source": [
    "## Get raster bands\n",
    "\n",
    "Different bands of a satellite images are often stacked together in one raster dataset. In our case, all seven bands of the Landsat 8 scene are included in our GeoTIFF and the `count` is hence 7.\n",
    "\n",
    "In order to have a closer look at the values stored in the band, we will take advantage of the [GDAL Band API](http://gdal.org/python/osgeo.gdal.Band-class.html).\n"
   ]
  },
  {
   "cell_type": "code",
   "execution_count": null,
   "metadata": {},
   "outputs": [],
   "source": [
    "# Read the raster band as separate variable\n",
    "band1 = raster.read(1)\n",
    "\n",
    "# Check type of the variable 'band'\n",
    "print(type(band1))\n",
    "\n",
    "# Data type of the values\n",
    "print(band1.dtype)"
   ]
  },
  {
   "cell_type": "markdown",
   "metadata": {},
   "source": [
    "Now we have the values of the raster band stored in the variable `band1`.\n",
    "\n",
    "Data type of the band can be interpreted with the help of GDAL documentation on [Pixel data types](http://www.gdal.org/gdal_8h.html#a22e22ce0a55036a96f652765793fb7a4). Unsigned integer is always equal or greater than zero and signed integer can store also negative values. For example, an unsigned 16-bit integer can store 2^16 (=65,536) values ranging from 0 to 65,535.\n"
   ]
  },
  {
   "cell_type": "markdown",
   "metadata": {},
   "source": [
    "## Band statistics\n",
    "\n",
    "Next, let's have a look at the values that are stored in the band. As the values of the bands are stored as numpy arrays, it is extremely easy to calculate basic statistics by using basic numpy functions."
   ]
  },
  {
   "cell_type": "code",
   "execution_count": null,
   "metadata": {},
   "outputs": [],
   "source": [
    "# Read all bands\n",
    "array = raster.read()\n",
    "\n",
    "# Calculate statistics for each band\n",
    "stats = []\n",
    "for band in array:\n",
    "    stats.append({\n",
    "        'min': band.min(),\n",
    "        'mean': band.mean(),\n",
    "        'median': np.median(band),\n",
    "        'max': band.max()})\n",
    "\n",
    "# Show stats for each channel\n",
    "stats"
   ]
  },
  {
   "cell_type": "markdown",
   "metadata": {},
   "source": [
    "# Visualizing raster layers\n",
    "\n",
    "Of course, it is always highly useful to take a look how the data looks like. This is easy with the `plot.show()` -function that comes with rasterio. This can be used to plot a single channel of the data or using mutiple channels simultaniously (multiband). The [channels for the data used in here](https://etsin.avointiede.fi/storage/f/paituli/latuviitta/Landsat_kanavat.pdf) and their corresponding wavelengths are:\n",
    "\n",
    " 1. Blue (0.45 - 0.515)\n",
    " 2. Green (0.525 - 0.605)\n",
    " 3. Red (0.63 - 0.69)\n",
    " 4. NIR (0.75 - 0.90)\n",
    " 5. IR (1.55 - 1.75)\n",
    " "
   ]
  },
  {
   "cell_type": "markdown",
   "metadata": {},
   "source": [
    "## Basic plotting\n"
   ]
  },
  {
   "cell_type": "code",
   "execution_count": null,
   "metadata": {},
   "outputs": [],
   "source": [
    "import rasterio\n",
    "from rasterio.plot import show\n",
    "import numpy as np\n",
    "import os\n",
    "%matplotlib inline\n",
    "\n",
    "# Data dir\n",
    "data_dir = \"L5_data\"\n",
    "\n",
    "# Filepath\n",
    "fp = os.path.join(data_dir, \"Helsinki_masked_p188r018_7t20020529_z34__LV-FIN.tif\")\n",
    "\n",
    "# Open the file:\n",
    "raster = rasterio.open(fp)\n",
    "\n",
    "# Plot band 1\n",
    "show((raster, 1))"
   ]
  },
  {
   "cell_type": "markdown",
   "metadata": {},
   "source": [
    "Here we can see that the `show` function created a map showing the pixel values of band 1.\n",
    "\n",
    "Let's see how the different bands look like by placing them next to each other:"
   ]
  },
  {
   "cell_type": "code",
   "execution_count": null,
   "metadata": {},
   "outputs": [],
   "source": [
    "import matplotlib.pyplot as plt\n",
    "%matplotlib inline\n",
    "\n",
    "# Initialize subplots \n",
    "fig, (ax1, ax2, ax3) = plt.subplots(ncols=3, nrows=1, figsize=(10, 4), sharey=True)\n",
    "\n",
    "# Plot Red, Green and Blue (rgb)\n",
    "show((raster, 4), cmap='Reds', ax=ax1)\n",
    "show((raster, 3), cmap='Greens', ax=ax2)\n",
    "show((raster, 1), cmap='Blues', ax=ax3)\n",
    "\n",
    "# Add titles\n",
    "ax1.set_title(\"Red\")\n",
    "ax2.set_title(\"Green\")\n",
    "ax3.set_title(\"Blue\")\n"
   ]
  },
  {
   "cell_type": "markdown",
   "metadata": {},
   "source": [
    "## RGB True color composite\n",
    "\n",
    "Next let's see how we can plot these channels as a normal RGB image.\n",
    "\n",
    "- First we need to read the bands into numpy arrays and normalize the cell values into scale ranging from 0.0 to 1.0:"
   ]
  },
  {
   "cell_type": "code",
   "execution_count": null,
   "metadata": {},
   "outputs": [],
   "source": [
    "# Read the grid values into numpy arrays\n",
    "red = raster.read(3)\n",
    "green = raster.read(2)\n",
    "blue = raster.read(1)\n",
    "\n",
    "# Function to normalize the grid values\n",
    "def normalize(array):\n",
    "    \"\"\"Normalizes numpy arrays into scale 0.0 - 1.0\"\"\"\n",
    "    array_min, array_max = array.min(), array.max()\n",
    "    return ((array - array_min)/(array_max - array_min))\n",
    "\n",
    "# Normalize the bands\n",
    "redn = normalize(red)\n",
    "greenn = normalize(green)\n",
    "bluen = normalize(blue)\n",
    "\n",
    "print(\"Normalized bands\")\n",
    "print(redn.min(), '-', redn.max(), 'mean:', redn.mean())\n",
    "print(greenn.min(), '-', greenn.max(), 'mean:', greenn.mean())\n",
    "print(bluen.min(), '-', bluen.max(), 'mean:', bluen.mean())"
   ]
  },
  {
   "cell_type": "markdown",
   "metadata": {},
   "source": [
    "As the statistics show, now the arrays have been normalized into scale from 0 to 1. \n",
    "\n",
    "- Next we need to stack the values from different values together to produce the RGB true color composite. For this we can use Numpy's [dstack()](https://docs.scipy.org/doc/numpy-1.15.1/reference/generated/numpy.dstack.html) -function:"
   ]
  },
  {
   "cell_type": "code",
   "execution_count": null,
   "metadata": {},
   "outputs": [],
   "source": [
    "# Create RGB natural color composite\n",
    "rgb = np.dstack((redn, greenn, bluen))\n",
    "\n",
    "# Let's see how our color composite looks like\n",
    "plt.imshow(rgb)"
   ]
  },
  {
   "cell_type": "markdown",
   "metadata": {},
   "source": [
    "Here we go, now we have a typical RGB natural color composite image that looks like a photograph taken with the satellite. "
   ]
  },
  {
   "cell_type": "markdown",
   "metadata": {},
   "source": [
    "## False color composite\n",
    "\n",
    "Following the previous example, it is easy to create false color composites with different band configurations. \n",
    "\n",
    "- One of the typical one, is to replace the blue band with near infra-red that can be used to detect vegetation easily where red color is emphasized. Let's use the same raster file as input, and generate our first false color composite:"
   ]
  },
  {
   "cell_type": "code",
   "execution_count": null,
   "metadata": {},
   "outputs": [],
   "source": [
    "# Read the grid values into numpy arrays\n",
    "nir = raster.read(4)\n",
    "red = raster.read(3)\n",
    "green = raster.read(2)\n",
    "\n",
    "# Normalize the values using the function that we defined earlier\n",
    "nirn = normalize(nir)\n",
    "redn = normalize(red)\n",
    "greenn = normalize(green)\n",
    "\n",
    "# Create the composite by stacking\n",
    "nrg = np.dstack((nirn, redn, greenn))\n",
    "\n",
    "# Let's see how our color composite looks like\n",
    "plt.imshow(nrg)"
   ]
  },
  {
   "cell_type": "markdown",
   "metadata": {},
   "source": [
    "As we can see, now the vegetation can be seen more easily from the image (red color)."
   ]
  },
  {
   "cell_type": "markdown",
   "metadata": {},
   "source": [
    "## Histogram of the raster data\n",
    "\n",
    "Typically when working with raster data, you want to look at the histogram of different bands in your data. Luckily that is really easy to do with rasterio by using the `plot.show_hist()` function.\n"
   ]
  },
  {
   "cell_type": "code",
   "execution_count": null,
   "metadata": {},
   "outputs": [],
   "source": [
    "from rasterio.plot import show_hist\n",
    "    \n",
    "show_hist(raster, bins=50, lw=0.0, stacked=False, alpha=0.3,\n",
    "      histtype='stepfilled', title=\"Histogram\")"
   ]
  },
  {
   "cell_type": "markdown",
   "metadata": {},
   "source": [
    "Now we can easily see how the wavelengths of different bands are distributed."
   ]
  },
  {
   "cell_type": "markdown",
   "metadata": {},
   "source": [
    "# Masking / clipping raster\n",
    "\n",
    "One common task in raster processing is to clip raster files based on a Polygon. The following example shows how to clip a large raster based on a bounding box around Helsinki Region.\n"
   ]
  },
  {
   "cell_type": "markdown",
   "metadata": {},
   "source": [
    "- Import modules and specify the input and output filepaths"
   ]
  },
  {
   "cell_type": "code",
   "execution_count": null,
   "metadata": {},
   "outputs": [],
   "source": [
    "import rasterio\n",
    "from rasterio.plot import show\n",
    "from rasterio.plot import show_hist\n",
    "from rasterio.mask import mask\n",
    "from shapely.geometry import box\n",
    "import geopandas as gpd\n",
    "from fiona.crs import from_epsg\n",
    "import pycrs\n",
    "import os\n",
    "%matplotlib inline\n",
    "\n",
    "# Data dir\n",
    "data_dir = \"L5_data\"\n",
    "\n",
    "# Input raster \n",
    "fp = os.path.join(data_dir, \"p188r018_7t20020529_z34__LV-FIN.tif\")\n",
    "\n",
    "# Output raster\n",
    "out_tif = os.path.join(data_dir, \"Helsinki_Masked.tif\")"
   ]
  },
  {
   "cell_type": "markdown",
   "metadata": {},
   "source": [
    "- Let's start by opening the raster in read mode and visualizing it (using specific colormap called `terrain`):"
   ]
  },
  {
   "cell_type": "code",
   "execution_count": null,
   "metadata": {},
   "outputs": [],
   "source": [
    "# Read the data\n",
    "data = rasterio.open(fp)\n",
    "\n",
    "# Visualize the NIR band\n",
    "show((data, 4), cmap='terrain')"
   ]
  },
  {
   "cell_type": "markdown",
   "metadata": {},
   "source": [
    "Okey, as you can see, we have a huge raster file where we can see the coastlines of Finland and Estonia. What we want to do next is to create a bounding box around Helsinki region and clip the raster based on that.\n",
    "\n",
    "- Next, we need to create a bounding box for our area of interest with Shapely."
   ]
  },
  {
   "cell_type": "code",
   "execution_count": null,
   "metadata": {},
   "outputs": [],
   "source": [
    "# WGS84 coordinates\n",
    "minx, miny = 24.60, 60.00\n",
    "maxx, maxy = 25.22, 60.35\n",
    "bbox = box(minx, miny, maxx, maxy)"
   ]
  },
  {
   "cell_type": "markdown",
   "metadata": {},
   "source": [
    "- Create a GeoDataFrame from the bounding box"
   ]
  },
  {
   "cell_type": "code",
   "execution_count": null,
   "metadata": {},
   "outputs": [],
   "source": [
    "geo = gpd.GeoDataFrame({'geometry': bbox}, index=[0], crs=from_epsg(4326))\n",
    "print(geo)"
   ]
  },
  {
   "cell_type": "markdown",
   "metadata": {},
   "source": [
    "As we can see now we have a GeoDataFrame with Polygon inside. To be able to clip the raster with this Polygon, it is required that the data has identical coordinate reference system.\n",
    "\n",
    "-  Re-project into the same coordinate system as the raster data. We can access the crs of the raster using attribute `.crs.data`:"
   ]
  },
  {
   "cell_type": "code",
   "execution_count": null,
   "metadata": {},
   "outputs": [],
   "source": [
    "# Project the Polygon into same CRS as the grid \n",
    "geo = geo.to_crs(crs=data.crs.data)\n",
    "\n",
    "# Print crs\n",
    "geo.crs"
   ]
  },
  {
   "cell_type": "markdown",
   "metadata": {},
   "source": [
    "- Next we need to get the coordinates of the geometry in such a format that rasterio wants them. This can be conducted easily with following function:"
   ]
  },
  {
   "cell_type": "code",
   "execution_count": null,
   "metadata": {},
   "outputs": [],
   "source": [
    "def getFeatures(gdf):\n",
    "    \"\"\"Function to parse features from GeoDataFrame in such a manner that rasterio wants them\"\"\"\n",
    "    import json\n",
    "    return [json.loads(gdf.to_json())['features'][0]['geometry']]"
   ]
  },
  {
   "cell_type": "markdown",
   "metadata": {},
   "source": [
    "- Get the geometry coordinates by using the function."
   ]
  },
  {
   "cell_type": "code",
   "execution_count": null,
   "metadata": {},
   "outputs": [],
   "source": [
    "coords = getFeatures(geo)\n",
    "print(coords)"
   ]
  },
  {
   "cell_type": "markdown",
   "metadata": {},
   "source": [
    "Okay, as we can see rasterio wants to have the coordinates of the Polygon in `GeoJSON` format.\n",
    "\n",
    "- Now we are ready to clip the raster with the polygon using the `coords` variable that we just created. Clipping the raster can be done easily with the `mask` function that we imported in the beginning from `rasterio`, and specifying ``clip=True``.\n"
   ]
  },
  {
   "cell_type": "code",
   "execution_count": null,
   "metadata": {},
   "outputs": [],
   "source": [
    "# Clip the raster with Polygon\n",
    "out_img, out_transform = mask(dataset=data, shapes=coords, crop=True)"
   ]
  },
  {
   "cell_type": "markdown",
   "metadata": {},
   "source": [
    "- Next, we need to modify the metadata. Let's start by copying the metadata from the original data file."
   ]
  },
  {
   "cell_type": "code",
   "execution_count": null,
   "metadata": {},
   "outputs": [],
   "source": [
    "# Copy the metadata\n",
    "out_meta = data.meta.copy()\n",
    "print(out_meta)"
   ]
  },
  {
   "cell_type": "markdown",
   "metadata": {},
   "source": [
    "- Next we need to parse the EPSG value from the CRS so that we can create a `Proj4` -string using `PyCRS` library (to ensure that the projection information is saved correctly)."
   ]
  },
  {
   "cell_type": "code",
   "execution_count": null,
   "metadata": {},
   "outputs": [],
   "source": [
    "# Parse EPSG code\n",
    "epsg_code = int(data.crs.data['init'][5:])\n",
    "print(epsg_code)"
   ]
  },
  {
   "cell_type": "markdown",
   "metadata": {},
   "source": [
    "- Now we need to update the metadata with new dimensions, transform (affine) and CRS (as Proj4 text):"
   ]
  },
  {
   "cell_type": "code",
   "execution_count": null,
   "metadata": {},
   "outputs": [],
   "source": [
    "out_meta.update({\"driver\": \"GTiff\",\n",
    "                 \"height\": out_img.shape[1],\n",
    "                 \"width\": out_img.shape[2],\n",
    "                 \"transform\": out_transform,\n",
    "                 \"crs\": pycrs.parser.from_epsg_code(epsg_code).to_proj4()}\n",
    "                         )"
   ]
  },
  {
   "cell_type": "markdown",
   "metadata": {},
   "source": [
    "- Finally, we can save the clipped raster to disk with following command:"
   ]
  },
  {
   "cell_type": "code",
   "execution_count": null,
   "metadata": {},
   "outputs": [],
   "source": [
    "with rasterio.open(out_tif, \"w\", **out_meta) as dest:\n",
    "        dest.write(out_img)"
   ]
  },
  {
   "cell_type": "markdown",
   "metadata": {},
   "source": [
    "- Let's still check that the result is correct by plotting our new clipped raster."
   ]
  },
  {
   "cell_type": "code",
   "execution_count": null,
   "metadata": {},
   "outputs": [],
   "source": [
    "# Open the clipped raster file\n",
    "clipped = rasterio.open(out_tif)\n",
    "\n",
    "# Visualize\n",
    "show((clipped, 5), cmap='terrain')"
   ]
  },
  {
   "cell_type": "markdown",
   "metadata": {},
   "source": [
    "Great, it worked! This is how you can easily clip (*mask*) raster files with rasterio."
   ]
  },
  {
   "cell_type": "markdown",
   "metadata": {},
   "source": [
    "# Raster map algebra\n",
    "\n",
    "Conducting calculations between bands or raster is another common GIS task. Here, we will be calculating `NDVI` (Normalized difference vegetation index) based on the Landsat dataset that we have downloaded from Helsinki region. Conducting calculations with rasterio is fairly straightforward if the extent etc. matches because the values of the rasters are stored as `numpy` arrays (similar to the columns stored in Geo/Pandas, i.e. `Series`).\n",
    "\n",
    "## Calculating NDVI \n",
    "\n",
    "In this tutorial, we will see how to calculate the NDVI (Normalized difference vegetation index) based on two bands: band-4 which is the Red channel and band-5 which is the Near Infrared (NIR).\n",
    "\n",
    "- Let's start by importing the necessary modules `rasterio` and `numpy` and reading the raster file that we masked for Helsinki Region:\n"
   ]
  },
  {
   "cell_type": "code",
   "execution_count": null,
   "metadata": {},
   "outputs": [],
   "source": [
    "import rasterio\n",
    "import numpy as np\n",
    "from rasterio.plot import show\n",
    "import os\n",
    "import matplotlib.pyplot as plt\n",
    "%matplotlib inline\n",
    "\n",
    "# Data dir\n",
    "data_dir = \"data\"\n",
    "\n",
    "# Filepath\n",
    "fp = os.path.join(data_dir, \"Helsinki_masked_p188r018_7t20020529_z34__LV-FIN.tif\")\n",
    "\n",
    "# Open the raster file in read mode\n",
    "raster = rasterio.open(fp)"
   ]
  },
  {
   "cell_type": "markdown",
   "metadata": {},
   "source": [
    "- Let's read the red and NIR bands from our raster source ([ref](https://etsin.avointiede.fi/storage/f/paituli/latuviitta/Landsat_kanavat.pdf)):"
   ]
  },
  {
   "cell_type": "code",
   "execution_count": null,
   "metadata": {},
   "outputs": [],
   "source": [
    "# Read red channel (channel number 3)\n",
    "red = raster.read(3)\n",
    "# Read NIR channel (channel number 4)\n",
    "nir = raster.read(4)\n",
    "\n",
    "# Calculate some stats to check the data\n",
    "print(red.mean())\n",
    "print(nir.mean())\n",
    "print(type(nir))\n",
    "\n",
    "# Visualize\n",
    "show(nir, cmap='terrain')"
   ]
  },
  {
   "cell_type": "markdown",
   "metadata": {},
   "source": [
    "As we can see the values are stored as `numpy.ndarray`. From the map we can see that NIR channel reflects stronly (light green) in areas outside the Helsinki urban areas.\n",
    "\n",
    "- Let's change the data type from uint8 to float so that we can have floating point numbers stored in our arrays:"
   ]
  },
  {
   "cell_type": "code",
   "execution_count": null,
   "metadata": {},
   "outputs": [],
   "source": [
    "# Convert to floats\n",
    "red = red.astype('f4')\n",
    "nir = nir.astype('f4')\n",
    "nir"
   ]
  },
  {
   "cell_type": "markdown",
   "metadata": {},
   "source": [
    "Now we can see that the numbers changed to decimal numbers (there is a dot after the zero).\n",
    "\n",
    "Next we need to tweak the behaviour of numpy a little bit. By default numpy will complain about dividing with zero values. We need to change that behaviour because we have a lot of 0 values in our data.\n"
   ]
  },
  {
   "cell_type": "code",
   "execution_count": null,
   "metadata": {},
   "outputs": [],
   "source": [
    "np.seterr(divide='ignore', invalid='ignore')"
   ]
  },
  {
   "cell_type": "markdown",
   "metadata": {},
   "source": [
    "- Now we are ready to calculate the NDVI. This can be done easily with simple map algebra and using the NDVI formula and passing our numpy arrays into it:"
   ]
  },
  {
   "cell_type": "code",
   "execution_count": null,
   "metadata": {},
   "outputs": [],
   "source": [
    "# Calculate NDVI using numpy arrays\n",
    "ndvi = (nir - red) / (nir + red)"
   ]
  },
  {
   "cell_type": "markdown",
   "metadata": {},
   "source": [
    "- Let's plot the results so we can see how the index worked out:"
   ]
  },
  {
   "cell_type": "code",
   "execution_count": null,
   "metadata": {},
   "outputs": [],
   "source": [
    "%matplotlib inline\n",
    "# Plot the NDVI\n",
    "plt.imshow(ndvi, cmap='terrain_r')\n",
    "# Add colorbar to show the index\n",
    "plt.colorbar()"
   ]
  },
  {
   "cell_type": "markdown",
   "metadata": {},
   "source": [
    "As we can see from the map, now the really low NDVI indices are located in water and urban areas (middle of the map) whereas the areas colored with green have a lot of vegetation according our NDVI index. "
   ]
  },
  {
   "cell_type": "markdown",
   "metadata": {},
   "source": [
    "# Creating a raster mosaic\n",
    "\n",
    "Quite often you need to merge multiple raster files together and create a `raster mosaic`. This can be done easily with the `merge()` -function in Rasterio.\n",
    "\n",
    "Here, we will create a mosaic based on 2X2m resolution DEM files (altogether 12 files) covering the Helsinki Metropolitan region. If you have not downloaded the DEM files yet, you can do that by running the script from download-data -section of the tutorial.\n",
    "\n",
    "As there are many `tif` files in our folder, it is not really pracical to start listing them manually. Luckily, we have a module and function called `glob` that can be used to create a list of those files that we are interested in based on search criteria.\n",
    "\n",
    "Let's start by:\n",
    "   \n",
    "  - Importing required modules\n",
    "  - Finding all `tif` files from the folder where the file starts with `L` -letter.\n"
   ]
  },
  {
   "cell_type": "code",
   "execution_count": null,
   "metadata": {},
   "outputs": [],
   "source": [
    "import rasterio\n",
    "from rasterio.merge import merge\n",
    "from rasterio.plot import show\n",
    "import glob\n",
    "import os\n",
    "%matplotlib inline\n",
    "\n",
    "# File and folder paths\n",
    "dirpath = \"L5_data\"\n",
    "out_fp = os.path.join(dirpath, \"Helsinki_DEM2x2m_Mosaic.tif\")\n",
    "\n",
    "# Make a search criteria to select the DEM files\n",
    "search_criteria = \"L*.tif\"\n",
    "q = os.path.join(dirpath, search_criteria)\n",
    "print(q)"
   ]
  },
  {
   "cell_type": "markdown",
   "metadata": {},
   "source": [
    "Now we can see that we have a search criteria (variable `q`) that we can pass to `glob` -function.\n",
    "\n",
    "- List all digital elevation files with glob() -function:"
   ]
  },
  {
   "cell_type": "code",
   "execution_count": null,
   "metadata": {},
   "outputs": [],
   "source": [
    "# glob function can be used to list files from a directory with specific criteria\n",
    "dem_fps = glob.glob(q)\n",
    "\n",
    "# Files that were found:\n",
    "dem_fps"
   ]
  },
  {
   "cell_type": "markdown",
   "metadata": {},
   "source": [
    "Great! Now we have all those 12 files in a list and we can start to make a mosaic out of them.\n",
    "\n",
    "- Let's first create a list for the source raster datafiles (in read mode) with rasterio that will be used to create the mosaic:\n"
   ]
  },
  {
   "cell_type": "code",
   "execution_count": null,
   "metadata": {},
   "outputs": [],
   "source": [
    "# List for the source files\n",
    "src_files_to_mosaic = []\n",
    "\n",
    "# Iterate over raster files and add them to source -list in 'read mode'\n",
    "for fp in dem_fps:\n",
    "    src = rasterio.open(fp)\n",
    "    src_files_to_mosaic.append(src)\n",
    "\n",
    "src_files_to_mosaic\n"
   ]
  },
  {
   "cell_type": "markdown",
   "metadata": {},
   "source": [
    "As we can see, now the list contains all those files as raster objects in read mode (´mode='r'´).\n",
    "\n",
    "- Let's plot a few of them next to each other to see how they look like:"
   ]
  },
  {
   "cell_type": "code",
   "execution_count": null,
   "metadata": {},
   "outputs": [],
   "source": [
    "import matplotlib.pyplot as plt\n",
    "%matplotlib inline\n",
    "\n",
    "# Create 4 plots next to each other\n",
    "fig, (ax1, ax2, ax3, ax4) = plt.subplots(ncols=4, nrows=1, figsize=(12, 4))\n",
    "\n",
    "# Plot first four files\n",
    "show(src_files_to_mosaic[0], ax=ax1)\n",
    "show(src_files_to_mosaic[1], ax=ax2)\n",
    "show(src_files_to_mosaic[2], ax=ax3)\n",
    "show(src_files_to_mosaic[3], ax=ax4)\n",
    "\n",
    "# Do not show y-ticks values in last three axis\n",
    "for ax in [ax2, ax3, ax4]:\n",
    "    ax.yaxis.set_visible(False)\n",
    "    "
   ]
  },
  {
   "cell_type": "markdown",
   "metadata": {},
   "source": [
    "As we can see we have multiple separate raster files that are actually located next to each other. Hence, we want to put them together into a single raster file that can by done by creating a raster mosaic.\n",
    "\n",
    "- Now as we have placed the individual raster files in read -mode into the `source_files_to_mosaic` -list, it is really easy to merge those together and create a mosaic with rasterio's `merge` function:"
   ]
  },
  {
   "cell_type": "code",
   "execution_count": null,
   "metadata": {},
   "outputs": [],
   "source": [
    "# Merge function returns a single mosaic array and the transformation info\n",
    "mosaic, out_trans = merge(src_files_to_mosaic)\n",
    "\n",
    "# Plot the result\n",
    "show(mosaic, cmap='terrain')"
   ]
  },
  {
   "cell_type": "markdown",
   "metadata": {},
   "source": [
    "Great, it looks correct! Now we are ready to save our mosaic to disk.\n",
    "\n",
    "- Let's first update the metadata with our new dimensions, transform and CRS:"
   ]
  },
  {
   "cell_type": "code",
   "execution_count": null,
   "metadata": {},
   "outputs": [],
   "source": [
    "# Copy the metadata\n",
    "out_meta = src.meta.copy()\n",
    "\n",
    "# Update the metadata\n",
    "out_meta.update({\"driver\": \"GTiff\",\n",
    "                 \"height\": mosaic.shape[1],\n",
    "                 \"width\": mosaic.shape[2],\n",
    "                 \"transform\": out_trans,\n",
    "                 \"crs\": \"+proj=utm +zone=35 +ellps=GRS80 +units=m +no_defs \"\n",
    "                 }\n",
    "                )"
   ]
  },
  {
   "cell_type": "markdown",
   "metadata": {},
   "source": [
    "- Finally we can write our mosaic to our computer:"
   ]
  },
  {
   "cell_type": "code",
   "execution_count": null,
   "metadata": {},
   "outputs": [],
   "source": [
    "# Write the mosaic raster to disk\n",
    "with rasterio.open(out_fp, \"w\", **out_meta) as dest:\n",
    "    dest.write(mosaic)"
   ]
  },
  {
   "cell_type": "markdown",
   "metadata": {},
   "source": [
    "That's it! Easy!"
   ]
  },
  {
   "cell_type": "markdown",
   "metadata": {},
   "source": [
    "Zonal statistics\n",
    "================\n",
    "\n",
    "Quite often you have a situtation when you want to summarize raster datasets based on vector geometries, such as calculating the average elevation of specific area.\n",
    "\n",
    "[Rasterstats](https://github.com/perrygeo/python-rasterstats) is a Python module that does exactly that, easily.\n",
    "\n",
    "- Let's start by reading the data:"
   ]
  },
  {
   "cell_type": "code",
   "execution_count": null,
   "metadata": {},
   "outputs": [],
   "source": [
    "import rasterio\n",
    "from rasterio.plot import show\n",
    "from rasterstats import zonal_stats\n",
    "import osmnx as ox\n",
    "import geopandas as gpd\n",
    "import os\n",
    "import matplotlib.pyplot as plt\n",
    "%matplotlib inline\n",
    "\n",
    "# File path\n",
    "data_dir = \"L5_data\"\n",
    "dem_fp = os.path.join(data_dir, \"Helsinki_DEM2x2m_Mosaic.tif\")\n",
    "\n",
    "# Read the Digital Elevation Model for Helsinki\n",
    "dem = rasterio.open(dem_fp)\n",
    "dem"
   ]
  },
  {
   "cell_type": "markdown",
   "metadata": {},
   "source": [
    "Good, now our elevation data is in read mode.\n",
    "\n",
    "Next, we want to calculate the elevation of two neighborhoods located in Helsinki, called `Kallio` and `Pihlajamäki`, and find out which one of them is higher based on the elevation data. We will use a package called [OSMnx](https://github.com/gboeing/osmnx) to fetch the data from OpenStreetMap for those areas.\n",
    "\n",
    "- Specify place names for `Kallio` and `Pihlajamäki` that Nominatim can identify https://nominatim.openstreetmap.org/, and retrieve the "
   ]
  },
  {
   "cell_type": "code",
   "execution_count": null,
   "metadata": {},
   "outputs": [],
   "source": [
    "# Keywords for Kallio and Helsinki in such format that they can be found from OSM\n",
    "kallio_q = \"Kallio, Helsinki, Finland\"\n",
    "pihlajamaki_q = \"Pihlajamäki, Malmi, Helsinki, Finland\"\n",
    "\n",
    "# Retrieve the geometries of those areas using osmnx\n",
    "kallio = ox.gdf_from_place(kallio_q)\n",
    "pihlajamaki = ox.gdf_from_place(pihlajamaki_q)\n",
    "\n",
    "# Reproject to same coordinate system as the \n",
    "kallio = kallio.to_crs(crs=dem.crs)\n",
    "pihlajamaki = pihlajamaki.to_crs(crs=dem.crs)\n",
    "\n",
    "type(kallio)"
   ]
  },
  {
   "cell_type": "markdown",
   "metadata": {},
   "source": [
    "As we can see, now we have retrieved data from OSMnx and they are stored as GeoDataFrames.\n",
    "\n",
    "- Let's see how our datasets look by plotting the DEM and the regions on top of it"
   ]
  },
  {
   "cell_type": "code",
   "execution_count": null,
   "metadata": {},
   "outputs": [],
   "source": [
    "# Plot the Polygons on top of the DEM\n",
    "ax = kallio.plot(facecolor='None', edgecolor='red', linewidth=2)\n",
    "ax = pihlajamaki.plot(ax=ax, facecolor='None', edgecolor='blue', linewidth=2)\n",
    "\n",
    "# Plot DEM\n",
    "show((dem, 1), ax=ax)"
   ]
  },
  {
   "cell_type": "markdown",
   "metadata": {},
   "source": [
    "**Which one is higher? Kallio or Pihlajamäki? We can use zonal statistics to find out!**\n",
    "\n",
    "- First we need to get the values of the dem as numpy array and the affine of the raster"
   ]
  },
  {
   "cell_type": "code",
   "execution_count": null,
   "metadata": {},
   "outputs": [],
   "source": [
    "# Read the raster values\n",
    "array = dem.read(1)\n",
    "\n",
    "# Get the affine\n",
    "affine = dem.transform"
   ]
  },
  {
   "cell_type": "markdown",
   "metadata": {},
   "source": [
    "- Now we can calculate the zonal statistics by using the function `zonal_stats`."
   ]
  },
  {
   "cell_type": "code",
   "execution_count": null,
   "metadata": {},
   "outputs": [],
   "source": [
    "# Calculate zonal statistics for Kallio\n",
    "zs_kallio = zonal_stats(kallio, array, affine=affine, stats=['min', 'max', 'mean', 'median', 'majority'])\n",
    "\n",
    "# Calculate zonal statistics for Pihlajamäki\n",
    "zs_pihla = zonal_stats(pihlajamaki, array, affine=affine, stats=['min', 'max', 'mean', 'median', 'majority'])\n"
   ]
  },
  {
   "cell_type": "markdown",
   "metadata": {},
   "source": [
    "Okey. So what do we have now?"
   ]
  },
  {
   "cell_type": "code",
   "execution_count": null,
   "metadata": {},
   "outputs": [],
   "source": [
    "print(zs_kallio)\n",
    "print(zs_pihla)"
   ]
  },
  {
   "cell_type": "markdown",
   "metadata": {},
   "source": [
    "Super! Now we can see that Pihlajamäki seems to be slightly higher compared to Kallio."
   ]
  },
  {
   "cell_type": "markdown",
   "metadata": {},
   "source": [
    "# Read Cloud Optimized Geotiffs\n",
    "\n",
    "The following materials are based on [this tutorial](https://geohackweek.github.io/raster/04-workingwithrasters/). Read more from that tutorial until this one get's better updated.\n",
    "\n",
    "- Let's read a Landsat TIF profile from AWS cloud storage:"
   ]
  },
  {
   "cell_type": "code",
   "execution_count": null,
   "metadata": {},
   "outputs": [],
   "source": [
    "import rasterio\n",
    "import matplotlib.pyplot as plt\n",
    "import numpy as np\n",
    "\n",
    "# Specify the path for Landsat TIF on AWS\n",
    "fp = 'http://landsat-pds.s3.amazonaws.com/c1/L8/042/034/LC08_L1TP_042034_20170616_20170629_01_T1/LC08_L1TP_042034_20170616_20170629_01_T1_B4.TIF'\n",
    "\n",
    "# See the profile\n",
    "with rasterio.open(fp) as src:\n",
    "    print(src.profile)"
   ]
  },
  {
   "cell_type": "markdown",
   "metadata": {},
   "source": [
    "- Let's plot a low resolution overview:"
   ]
  },
  {
   "cell_type": "code",
   "execution_count": null,
   "metadata": {},
   "outputs": [],
   "source": [
    "%matplotlib inline\n",
    "# Open the COG\n",
    "with rasterio.open(fp) as src:\n",
    "    # List of overviews from biggest to smallest\n",
    "    oviews = src.overviews(1) \n",
    "    \n",
    "    # Retrieve the smallest thumbnail\n",
    "    oview = oviews[-1] \n",
    "    print('Decimation factor= {}'.format(oview))\n",
    "    # NOTE this is using a 'decimated read' (http://rasterio.readthedocs.io/en/latest/topics/resampling.html)\n",
    "    thumbnail = src.read(1, out_shape=(1, int(src.height // oview), int(src.width // oview)))\n",
    "\n",
    "print('array type: ',type(thumbnail))\n",
    "print(thumbnail)\n",
    "\n",
    "plt.imshow(thumbnail)\n",
    "plt.colorbar()\n",
    "plt.title('Overview - Band 4 {}'.format(thumbnail.shape))\n",
    "plt.xlabel('Column #')\n",
    "plt.ylabel('Row #')"
   ]
  },
  {
   "cell_type": "markdown",
   "metadata": {},
   "source": [
    "- Let's fix the NoData values to be `NaN` instead of 0:"
   ]
  },
  {
   "cell_type": "code",
   "execution_count": null,
   "metadata": {},
   "outputs": [],
   "source": [
    "# Open the file\n",
    "with rasterio.open(fp) as src:\n",
    "    # Access the overviews\n",
    "    oviews = src.overviews(1)\n",
    "    oview = oviews[-1]\n",
    "    \n",
    "    print('Decimation factor= {}'.format(oview))\n",
    "    \n",
    "    # Read the thumbnail\n",
    "    thumbnail = src.read(1, out_shape=(1, int(src.height // oview), int(src.width // oview)))\n",
    "    \n",
    "    # Convert the values into float\n",
    "    thumbnail = thumbnail.astype('f4')\n",
    "    \n",
    "    # Convert 0 values to NaNs\n",
    "    thumbnail[thumbnail==0] = np.nan\n",
    "\n",
    "plt.imshow(thumbnail)\n",
    "plt.colorbar()\n",
    "plt.title('Overview - Band 4 {}'.format(thumbnail.shape))\n",
    "plt.xlabel('Column #')\n",
    "plt.ylabel('Row #')"
   ]
  },
  {
   "cell_type": "markdown",
   "metadata": {},
   "source": [
    "- Let's take a subset from high resolution image:"
   ]
  },
  {
   "cell_type": "code",
   "execution_count": null,
   "metadata": {},
   "outputs": [],
   "source": [
    "#https://rasterio.readthedocs.io/en/latest/topics/windowed-rw.html\n",
    "#rasterio.windows.Window(col_off, row_off, width, height)\n",
    "window = rasterio.windows.Window(1024, 1024, 1280, 2560)\n",
    "\n",
    "with rasterio.open(fp) as src:\n",
    "    subset = src.read(1, window=window)\n",
    "\n",
    "plt.figure(figsize=(6,8.5))\n",
    "plt.imshow(subset)\n",
    "plt.colorbar(shrink=0.5)\n",
    "plt.title(f'Band 4 Subset\\n{window}')\n",
    "plt.xlabel('Column #')\n",
    "plt.ylabel('Row #')"
   ]
  },
  {
   "cell_type": "markdown",
   "metadata": {},
   "source": [
    "These commands demonstrate the basics how to use COGs to retrieve data from the cloud."
   ]
  }
 ],
 "metadata": {
  "kernelspec": {
   "display_name": "Python 3 (ipykernel)",
   "language": "python",
   "name": "python3"
  },
  "language_info": {
   "codemirror_mode": {
    "name": "ipython",
    "version": 3
   },
   "file_extension": ".py",
   "mimetype": "text/x-python",
   "name": "python",
   "nbconvert_exporter": "python",
   "pygments_lexer": "ipython3",
   "version": "3.8.12"
  }
 },
 "nbformat": 4,
 "nbformat_minor": 2
}
