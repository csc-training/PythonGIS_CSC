{
 "cells": [
  {
   "cell_type": "markdown",
   "metadata": {},
   "source": [
    "# Lesson 7: Working with Raster data\n",
    "\n",
    "## Learning Objectives\n",
    "\n",
    "Learn how to:\n",
    " * read spatial raster formats from web services and files\n",
    " * write spatial raster formats to disk\n",
    " * apply basic operations on raster data\n",
    " * plot spatial raster data with matplotlib and rasterio\n",
    " * work with categorical rasters\n"
   ]
  },
  {
   "cell_type": "markdown",
   "metadata": {},
   "source": [
    "## All good with Seurasaaris trees?\n",
    "\n",
    "As researchers we often wonder about the weirdest things. \n",
    "In this lesson we will wonder about how the trees of [Seurasaari](https://www.hel.fi/helsinki/en/culture/recreation/in-helsinki/seurasaari) (small island in western Helsinki) were doing in end of summer 2021.\n",
    "\n",
    "And since we do not just wonder but also want to really know, we will see if we can answer this question using some freely available data and open source tools.\n",
    "\n",
    "Our data:\n",
    "-> Earth Observation (ie satellite remote sensing) data: we want to know the situation at a specific time and place.\n",
    "-> multispectral remote sensing data: we are interested in spectral information rather than structural.\n",
    "-> Sentinel-2 data: Seurasaari is rather small and Sentinel-2 provides up to 10 meter spatial resolution.\n",
    "\n",
    "Our (main) tool:\n",
    "[Rasterio](https://rasterio.readthedocs.io/en/latest/intro.html) Python package (depends on [GDAL](https://gdal.org/)). "
   ]
  },
  {
   "cell_type": "code",
   "execution_count": null,
   "metadata": {},
   "outputs": [],
   "source": [
    "# Let's import rasterio library (https://rasterio.readthedocs.io/en/latest/)\n",
    "import rasterio\n",
    "print(rasterio.__version__)\n",
    "\n",
    "# and a small toolbox that will help us with the tasks\n",
    "import seurasaari_toolbox as stb"
   ]
  },
  {
   "cell_type": "markdown",
   "metadata": {},
   "source": [
    "### Getting the data\n",
    "\n",
    "There is many tools around to get this data. E.g. https://scihub.copernicus.eu/dhus/ as graphical web interface. [FORCE](https://force-eo.readthedocs.io/en/latest/) and [sentinelsat](https://sentinelsat.readthedocs.io/en/stable/) are examples of tools that are used from the command line.\n",
    "\n",
    "Lucky for us we have a pre-processed geotiff file on Allas ( url: https://a3s.fi/gis-courses/pythongis_2022/S2B_RGBNIR_20210926_Helsinki.tif ) that includes 4 band (rgbnir) Sentinel-2 data of 26.09.2021. You can see the preprocessing steps done to this file in `prepare_data.py`.\n",
    "Let's get it and have a look.."
   ]
  },
  {
   "cell_type": "code",
   "execution_count": null,
   "metadata": {},
   "outputs": [],
   "source": [
    "# Utilize the toolbox to download the data from Allas\n",
    "\n",
    "url = 'https://a3s.fi/gis-courses/pythongis_2022/S2B_RGBNIR_20210926_Helsinki.tif'\n",
    "stb.download_data(url)\n",
    "\n",
    "\n",
    "# open the file with rasterio\n",
    "s2file = './data/S2B_RGBNIR_20210926_Helsinki.tif'\n",
    "s2tif = rasterio.open(s2file)\n"
   ]
  },
  {
   "cell_type": "markdown",
   "metadata": {},
   "source": [
    "### What metadata is available?"
   ]
  },
  {
   "cell_type": "code",
   "execution_count": null,
   "metadata": {},
   "outputs": [],
   "source": [
    "# Check the files metadata\n",
    "s2tif.meta"
   ]
  },
  {
   "cell_type": "markdown",
   "metadata": {},
   "source": [
    "The four bands available to us (1:blue, 2:green, 3:red, 4: near infrared) can tell us different things.\n",
    "\n",
    "![](./img/vegetation_reflectance.png)\n",
    "\n",
    "Credit: Physicsopenlab, http://physicsopenlab.org/wp-content/uploads/2017/01/veg.gif\n",
    "\n",
    "\n",
    "### Visualizing the near infrared band\n",
    "\n",
    "It looks like the near infrared can tell us something about vegetation. Let's visualize it!\n"
   ]
  },
  {
   "cell_type": "code",
   "execution_count": null,
   "metadata": {},
   "outputs": [],
   "source": [
    "# rasterio provides its own plotting functions\n",
    "from rasterio.plot import show\n",
    "\n",
    "# with read we can access the different bands\n",
    "show(s2tif,4)"
   ]
  },
  {
   "cell_type": "markdown",
   "metadata": {},
   "source": [
    "Great, we can see that our data shows Helsinki, and that we have a range of different reflectances in the near infrared band.\n",
    "\n",
    "### Common false color image\n",
    "\n",
    "But there is better ways to look at vegetation. Let's for example have a look at a \"common false color image\" which utilizes the nir, green and red band to be represented as red, green and blue bands for the image."
   ]
  },
  {
   "cell_type": "code",
   "execution_count": null,
   "metadata": {},
   "outputs": [],
   "source": [
    "# Read the raster values into numpy arrays\n",
    "nir = s2tif.read(4)\n",
    "red = s2tif.read(3)\n",
    "green = s2tif.read(2)\n",
    "\n",
    "# check what we got\n",
    "\n",
    "print(type(nir))\n",
    "print(nir.dtype)"
   ]
  },
  {
   "cell_type": "markdown",
   "metadata": {},
   "source": [
    "Uint is chosen for Sentinel-2 data to conserve storage space. To get the true reflectance, every pixel value needs to be divided by 10000. Becaue integers cannot hold any nodata value, the nodata value of the bands is set to 0. With floating point numbers we can set these 0 values to np.nan instead. These are common processes for satellite remote sensing data. However, the correction factore and nodata values might be different for different sensors."
   ]
  },
  {
   "cell_type": "code",
   "execution_count": null,
   "metadata": {},
   "outputs": [],
   "source": [
    "#for this we need numpy\n",
    "import numpy as np\n",
    "\n",
    "# rescaling bands to values between 0 and 1\n",
    "red = red / 10000\n",
    "green = green / 10000\n",
    "nir = nir / 10000\n",
    "\n",
    "# replacing 0 with np.nan\n",
    "red[red == 0] = np.nan\n",
    "green[green == 0] = np.nan\n",
    "nir[nir == 0] = np.nan\n",
    "nir.dtype"
   ]
  },
  {
   "cell_type": "code",
   "execution_count": null,
   "metadata": {},
   "outputs": [],
   "source": [
    "#use pyplot for plotting multiband images\n",
    "import matplotlib.pyplot as plt\n",
    "%matplotlib inline"
   ]
  },
  {
   "cell_type": "code",
   "execution_count": null,
   "metadata": {},
   "outputs": [],
   "source": [
    "# we want nir -> red, red -> green and green -> blue\n",
    "stack = np.dstack((nir, red, green))\n",
    "\n",
    "# check that it worked\n",
    "stack.shape"
   ]
  },
  {
   "cell_type": "code",
   "execution_count": null,
   "metadata": {},
   "outputs": [],
   "source": [
    "#and plot it using imshow\n",
    "plt.imshow(stack)"
   ]
  },
  {
   "cell_type": "markdown",
   "metadata": {},
   "source": [
    "We divided the values by 10000 to get values between 0 and 1. However, imshow warns us that it had to clip some values for the plot. Let's see what went wrong. "
   ]
  },
  {
   "cell_type": "code",
   "execution_count": null,
   "metadata": {},
   "outputs": [],
   "source": [
    "# check out min, max and mean of one band\n",
    "print(np.nanmin(red), '-', np.nanmax(red), 'mean:', np.nanmean(red))"
   ]
  },
  {
   "cell_type": "markdown",
   "metadata": {},
   "source": [
    "It seems like we do have some values outside of the [0,1] range. "
   ]
  },
  {
   "cell_type": "code",
   "execution_count": null,
   "metadata": {},
   "outputs": [],
   "source": [
    "#use numpy to set all values > 1 to 1\n",
    "red[red>1] =1\n",
    "green[green>1] = 1\n",
    "nir[nir>1] =1\n",
    "\n",
    "# and stack again\n",
    "stack = np.dstack((nir, red, green))\n",
    "\n",
    "print(np.nanmin(red), '-', np.nanmax(red), 'mean:', np.nanmean(red))"
   ]
  },
  {
   "cell_type": "markdown",
   "metadata": {},
   "source": [
    "Let's also look at how our values are distributed with [rasterios histogram plotting function](https://rasterio.readthedocs.io/en/latest/api/rasterio.plot.html#rasterio.plot.show_hist) :"
   ]
  },
  {
   "cell_type": "code",
   "execution_count": null,
   "metadata": {},
   "outputs": [],
   "source": [
    "#use rasterio show_hist\n",
    "from rasterio.plot import show_hist\n",
    "\n",
    "\n",
    "show_hist(stack, bins=50, lw=0, stacked=False, alpha=0.2,\n",
    "      histtype='stepfilled', label = ['nir','red','green'])"
   ]
  },
  {
   "cell_type": "markdown",
   "metadata": {},
   "source": [
    "It looks like we have a lot of values below 0.5, but using the whole 0-1 range to plot the false color image. This may be the reason it appears so dark.\n",
    "Let's utilize some image processing (from the toolbox) to disregard very large and very small values and stretch the remaining values across the histogram for visualization purposes."
   ]
  },
  {
   "cell_type": "code",
   "execution_count": null,
   "metadata": {},
   "outputs": [],
   "source": [
    "\n",
    "stretchnir = stb.stretch(nir)\n",
    "stretchred = stb.stretch(red)\n",
    "stretchgreen = stb.stretch(green)\n",
    "\n",
    "print('before')\n",
    "print(np.nanmin(red), '-', np.nanmax(red), 'mean:', np.nanmean(red))\n",
    "print('after')\n",
    "print(np.nanmin(stretchred), '-', np.nanmax(stretchred), 'mean:', np.nanmean(stretchred))"
   ]
  },
  {
   "cell_type": "markdown",
   "metadata": {},
   "source": [
    "That looks better, let's plot it!"
   ]
  },
  {
   "cell_type": "code",
   "execution_count": null,
   "metadata": {},
   "outputs": [],
   "source": [
    "#stack and plot histogram stretched image\n",
    "\n",
    "stretchstack = np.dstack((stretchnir, stretchred, stretchgreen))\n",
    "\n",
    "plt.imshow(stretchstack)"
   ]
  },
  {
   "cell_type": "markdown",
   "metadata": {},
   "source": [
    "Much better. Now we can see how green Helsinki is.\n",
    "\n",
    "### Cropping the image\n",
    "\n",
    "However, cannot see really well what is going on on Seurasaari.\n",
    "\n",
    "Since we are not interested in the rest of Helsinki, let's crop out Seurasaari:"
   ]
  },
  {
   "cell_type": "code",
   "execution_count": null,
   "metadata": {},
   "outputs": [],
   "source": [
    "#use osmnx tool for getting a polygon representing Seurasaari\n",
    "\n",
    "import osmnx as ox\n",
    "\n",
    "# Keywords for Seurasaari in such format that they can be found from OSM: https://nominatim.openstreetmap.org/ui/search.html\n",
    "seurasaari_q = \"Seurasaari, Helsinki, Finland\"\n",
    "\n",
    "# Retrieve the geometries of those areas using osmnx and store them in a geodataframe\n",
    "seurasaari = ox.geocode_to_gdf(seurasaari_q)\n"
   ]
  },
  {
   "cell_type": "markdown",
   "metadata": {},
   "source": [
    "For the cropping operation we need both the Sentinel-2 data and the Seurasaari polygon in the same Coordinate Reference System (crs):"
   ]
  },
  {
   "cell_type": "code",
   "execution_count": null,
   "metadata": {},
   "outputs": [],
   "source": [
    "#check seurasaaris crs\n",
    "seurasaari.crs"
   ]
  },
  {
   "cell_type": "code",
   "execution_count": null,
   "metadata": {},
   "outputs": [],
   "source": [
    "# reproject polygon to raster crs\n",
    "seurasaari = seurasaari.to_crs(crs=s2tif.crs)\n",
    "\n",
    "seurasaari.crs"
   ]
  },
  {
   "cell_type": "markdown",
   "metadata": {},
   "source": [
    "Now we need to get the format of the seurasaari polygon into something usable for rasterio (https://rasterio.readthedocs.io/en/latest/api/rasterio.mask.html#rasterio.mask.mask).\n"
   ]
  },
  {
   "cell_type": "code",
   "execution_count": null,
   "metadata": {},
   "outputs": [],
   "source": [
    "#let's use our toolbox to get the features  \n",
    "coords = stb.getFeatures(seurasaari)\n",
    "coords"
   ]
  },
  {
   "cell_type": "code",
   "execution_count": null,
   "metadata": {},
   "outputs": [],
   "source": [
    "# use the mask function to crop the Sentinel-2 image\n",
    "from rasterio.mask import mask\n",
    "\n",
    "seurasaariS2ar, seurasaariS2_transform = mask(dataset=s2tif, shapes=coords, crop=True)\n",
    "\n",
    "# check the shape\n",
    "seurasaariS2ar.shape\n"
   ]
  },
  {
   "cell_type": "markdown",
   "metadata": {},
   "source": [
    "Let's store this cropped version as geotiff."
   ]
  },
  {
   "cell_type": "code",
   "execution_count": null,
   "metadata": {},
   "outputs": [],
   "source": [
    "# Copy the metadata from the original geotiff\n",
    "seurasaariS2_meta = s2tif.meta.copy()\n",
    "\n",
    "seurasaariS2_meta.update({\"height\": seurasaariS2ar.shape[1],\n",
    "                 \"width\": seurasaariS2ar.shape[2],\n",
    "                 \"transform\": seurasaariS2_transform }\n",
    "                )\n",
    "\n",
    "#metadata as keyword arguments (key-value pairs)\n",
    "\n",
    "seurasaariS2tif = './data/S2B_RBGNIR_20210926_Seurasaari.tif'\n",
    "\n",
    "# write the file as geotif\n",
    "with rasterio.open(seurasaariS2tif, \"w\", **seurasaariS2_meta) as dest:\n",
    "        dest.write(seurasaariS2ar)"
   ]
  },
  {
   "cell_type": "markdown",
   "metadata": {},
   "source": [
    "Now we are done with the Sentinel-2 data of Helsinki. So let's not forget to close it."
   ]
  },
  {
   "cell_type": "code",
   "execution_count": null,
   "metadata": {},
   "outputs": [],
   "source": [
    "s2tif.close()"
   ]
  },
  {
   "cell_type": "markdown",
   "metadata": {},
   "source": [
    "And we can open the cropped rasterfile again with rasterio and visualize the nir band. "
   ]
  },
  {
   "cell_type": "code",
   "execution_count": null,
   "metadata": {},
   "outputs": [],
   "source": [
    "# Open the cropped raster file\n",
    "seurasaariS2 = rasterio.open(seurasaariS2tif)\n",
    "\n",
    "# Visualize with colormap defined\n",
    "show((seurasaariS2, 4), cmap='terrain')"
   ]
  },
  {
   "cell_type": "markdown",
   "metadata": {},
   "source": [
    "Let's also take a look at the false color image."
   ]
  },
  {
   "cell_type": "code",
   "execution_count": null,
   "metadata": {},
   "outputs": [],
   "source": [
    "\n",
    "# use the toolbox to prepare the image (as we did for Helsinki)\n",
    "falsecolorstack = stb.make_false_color_stack(seurasaariS2)\n",
    "\n",
    "# and plot it\n",
    "plt.imshow(falsecolorstack)"
   ]
  },
  {
   "cell_type": "markdown",
   "metadata": {},
   "source": [
    "Looks like there are a lot of trees on Seurasaari with high reflectances in the near infrared.\n",
    "\n",
    "Let's close the file again for now."
   ]
  },
  {
   "cell_type": "code",
   "execution_count": null,
   "metadata": {},
   "outputs": [],
   "source": [
    "seurasaariS2.close()"
   ]
  },
  {
   "cell_type": "markdown",
   "metadata": {},
   "source": [
    "\n",
    "### Vegetatiom health indicator\n",
    "\n",
    "The false color image does give us an impression about the vegetation on Seurasaari, but there is also other ways to look at \"vegetation greenness/health\".\n",
    "\n",
    "One often used indicator for vegetation health is the [Normalized Difference Vegetation Index, NDVI](https://gisgeography.com/ndvi-normalized-difference-vegetation-index/) \n",
    "\n",
    "![](./img/ndvi.jpg)\n",
    "\n",
    "Credit: Robert Simmon, NASA, https://www.nasa.gov/topics/earth/features/obscure_data.html\n",
    "\n",
    "It is calculated as:\n",
    "\n",
    "$$NDVI = \\frac{nir-red}{nir+red}$$\n",
    "\n",
    "This formula is applied to every single pixel in the raster. So we will need to do some band math / map algebra. And since we can read our data into numpy arrays, let's utilize that and read the nir and red band into arrays:\n",
    "\n"
   ]
  },
  {
   "cell_type": "code",
   "execution_count": null,
   "metadata": {},
   "outputs": [],
   "source": [
    "#open the Seurasaari geotif \n",
    "seurasaariS2 = rasterio.open(seurasaariS2tif)\n",
    "\n",
    "# make use of the read_band function of the toolbox to read and prepare the arrays\n",
    "# red is our channel number 3\n",
    "red = stb.read_band(seurasaariS2,3)\n",
    "# nir is our channel number 4\n",
    "nir = stb.read_band(seurasaariS2,4)\n",
    "\n",
    "# check arrays datatype; range of NDVI is [0,1] -> float\n",
    "red.dtype"
   ]
  },
  {
   "cell_type": "code",
   "execution_count": null,
   "metadata": {},
   "outputs": [],
   "source": [
    "\n",
    "# since the divisor can be 0, we choose to ignore that error from numpy\n",
    "np.seterr(divide='ignore', invalid='ignore')\n"
   ]
  },
  {
   "cell_type": "markdown",
   "metadata": {},
   "source": [
    "Then we can calculate the NDVI value for every single pixle in our Seurasaari raster:"
   ]
  },
  {
   "cell_type": "code",
   "execution_count": null,
   "metadata": {},
   "outputs": [],
   "source": [
    "#use the formula to calculate NDVI\n",
    "ndvi = (nir - red) / (nir + red)\n",
    "\n",
    "# check what is the minimum NDVI value in our raster\n",
    "np.nanmin(ndvi)\n",
    "ndvi.dtype"
   ]
  },
  {
   "cell_type": "markdown",
   "metadata": {},
   "source": [
    "Let's also visualize the NDVI using imshow (currently ndvi is only an array without geoinformation):"
   ]
  },
  {
   "cell_type": "code",
   "execution_count": null,
   "metadata": {},
   "outputs": [],
   "source": [
    "# Plot the NDVI\n",
    "plt.imshow(ndvi, cmap='viridis')\n",
    "# Add colorbar to show the index\n",
    "plt.colorbar()"
   ]
  },
  {
   "cell_type": "markdown",
   "metadata": {},
   "source": [
    "Looks like the Seurasaari has been green and healthy. Let's store this ndvi array with added geoinformation as geotif:"
   ]
  },
  {
   "cell_type": "code",
   "execution_count": null,
   "metadata": {},
   "outputs": [],
   "source": [
    "#copy metadata from original \n",
    "ndvi_meta = seurasaariS2.meta.copy()\n",
    "\n",
    "#we now only have one band instead of four, and the datatype changed, everything else stays same\n",
    "ndvi_meta.update({\"count\" : 1,\n",
    "                 \"dtype\" : np.dtype('f8')})\n",
    "\n",
    "#write the NDVI array to geotif\n",
    "with rasterio.open(\"./data/S2_NDVI_Seurasaari.tif\", \"w\", **ndvi_meta) as dest:\n",
    "    dest.write_band(1, ndvi.astype(np.dtype('f8')))\n",
    "    \n"
   ]
  },
  {
   "cell_type": "markdown",
   "metadata": {},
   "source": [
    "### Collecting more information\n",
    "\n",
    "In general, it looks like the vegetation on Seurasaari is doing well. But what are those darker areas?\n",
    "\n",
    "It is possible that not everything is trees on Seurasaari.\n",
    "\n",
    "Let's check what else there is...\n",
    "\n",
    "There is many possibilities to do that, we are going to look at the land cover classification [Corine](https://land.copernicus.eu/pan-european/corine-land-cover) , wich SYKE kindly provides for Finland: https://ckan.ymparisto.fi/dataset/%7B0B4B2FAC-ADF1-43A1-A829-70F02BF0C0E5%7D with the categories provided as excel sheet: https://geoportal.ymparisto.fi/meta/julkinen/dokumentit/CorineMaanpeite2018Luokat.xls\n",
    "\n",
    "For this lesson we will use a cropped versio of the file provided by SYKE, covering Seurasaari.\n",
    "\n",
    "First, lets visualize Corine data of Seurasaari:"
   ]
  },
  {
   "cell_type": "code",
   "execution_count": null,
   "metadata": {},
   "outputs": [],
   "source": [
    "corinefile = './data/Clc2018_Seurasaari.tif'\n",
    "\n",
    "\n",
    "with rasterio.open(corinefile) as corine:\n",
    "    show(corine,1, cmap = 'tab20b', ax=ax)"
   ]
  },
  {
   "cell_type": "markdown",
   "metadata": {},
   "source": [
    "Up to now we have been working with continuous rasterdata representing reflectance between 0 and 1.\n",
    "Corine is an example of a categorical raster, with each value representing a land cover class.\n",
    "From the plot above we can see, that we have multiple different land cover classes on Seurasaari.\n",
    "\n",
    "Let's see what land cover classes we have on Seurasaari using `zonal_stats` function from [rasterstats](https://pythonhosted.org/rasterstats/)."
   ]
  },
  {
   "cell_type": "code",
   "execution_count": null,
   "metadata": {},
   "outputs": [],
   "source": [
    "from rasterstats import zonal_stats\n",
    "\n",
    "zstats = zonal_stats(seurasaari, corinefile, categorical=True)\n",
    "zstats"
   ]
  },
  {
   "cell_type": "markdown",
   "metadata": {},
   "source": [
    "For categorical rasters, `zonal_stats` output is a dictionary with categoryvalue (= land cover class) and number of pixels belonging to that class.\n",
    "Now it would be great to know what these category values mean to find out what is forest. \n",
    "Luckily class descriptions are provided as excel file, of which we can pack the interesting (english and detailed) description into a dictionary:"
   ]
  },
  {
   "cell_type": "code",
   "execution_count": null,
   "metadata": {},
   "outputs": [],
   "source": [
    "#use toolbox function to get a dictionary of land cover class value and its name\n",
    "catdict = stb.get_corine_dict()\n",
    "catdict"
   ]
  },
  {
   "cell_type": "markdown",
   "metadata": {},
   "source": [
    "We can add this directly to zonal stats to get the output human reader friendly with classnames instead of numbers (https://pythonhosted.org/rasterstats/manual.html#working-with-categorical-rasters):"
   ]
  },
  {
   "cell_type": "code",
   "execution_count": null,
   "metadata": {},
   "outputs": [],
   "source": [
    "zstats = zonal_stats(seurasaari,corinefile, categorical=True, category_map=catdict, stats=['count'])\n"
   ]
  },
  {
   "cell_type": "markdown",
   "metadata": {},
   "source": [
    "And we can get the pecentage of pixels for each class, by utilizing the 'count' statistics, which counts all valid pixels within the polygon. "
   ]
  },
  {
   "cell_type": "code",
   "execution_count": null,
   "metadata": {},
   "outputs": [],
   "source": [
    "# use function from toolbox to calculate percentages for each class\n",
    "stb.get_zonal_stats_percentage(zstats)\n"
   ]
  },
  {
   "cell_type": "markdown",
   "metadata": {},
   "source": [
    "Now we know that there are commercial and industrial units on Seurasaari. Note that the Corine file was clipped approximately at the coast, which explains that there is 0.x% of sea and ocean and bare rock, even though if you have ever been to Seurasaari we know it is there.\n",
    "\n",
    "But we are only interested in trees (forest in Corine case), so lets filter out only forest classes: 'Broad-leaved forest on mineral soil', 'Coniferous forest on mineral soil', 'Coniferous forest on rocky soil', 'Mixed forest on mineral soil', 'Mixed forest on rocky soil'. Let's get the codes of these classes."
   ]
  },
  {
   "cell_type": "code",
   "execution_count": null,
   "metadata": {},
   "outputs": [],
   "source": [
    "forestcodes = stb.get_forest_codes()"
   ]
  },
  {
   "cell_type": "markdown",
   "metadata": {},
   "source": [
    "Let's create a mask which shows us where there is forest, and no forest on Seurasaari. \n",
    "First we have to read the Corinefile into a numpy array:"
   ]
  },
  {
   "cell_type": "code",
   "execution_count": null,
   "metadata": {},
   "outputs": [],
   "source": [
    "# read the first and only band of the Corine dataset\n",
    "with rasterio.open(corinefile) as corine:\n",
    "    corinearray = corine.read(1)\n",
    "    \n",
    "corinearray"
   ]
  },
  {
   "cell_type": "markdown",
   "metadata": {},
   "source": [
    "Now we mask the corinearray everywhere where the values are equal to any of the forest codes:"
   ]
  },
  {
   "cell_type": "code",
   "execution_count": null,
   "metadata": {},
   "outputs": [],
   "source": [
    "mask = stb.create_forest_mask(corinearray, forestcodes)\n",
    "\n",
    "show(mask,1)"
   ]
  },
  {
   "cell_type": "markdown",
   "metadata": {},
   "source": [
    "Now we store the resulting mask as a shapefile using [fiona](https://fiona.readthedocs.io/en/latest/manual.html) and [resterio.features](https://rasterio.readthedocs.io/en/latest/api/rasterio.features.html):"
   ]
  },
  {
   "cell_type": "code",
   "execution_count": null,
   "metadata": {},
   "outputs": [],
   "source": [
    "\n",
    "import fiona\n",
    "from rasterio import features\n",
    "\n",
    "\n",
    "# use features to get the values and connected regions in the mask and store them as polygons with the corresponding raster value as field.\n",
    "results = (\n",
    "    {'properties': {'raster_val': v}, 'geometry': s}        \n",
    "    for i, (s, v) in enumerate(features.shapes(mask, transform = corine.transform)))\n",
    "\n",
    "# use fiona to store the polygons as shapefile with metadata from the corine raster\n",
    "with fiona.open(\n",
    "        './data/forestmask_corine_seurasaari2.shp', 'w',\n",
    "        driver='Shapefile',\n",
    "        crs=corine.crs,\n",
    "        schema={'properties': [('raster_val', 'int')],\n",
    "        'geometry': 'Polygon'}) as dst:\n",
    "    dst.writerecords(results)"
   ]
  },
  {
   "cell_type": "markdown",
   "metadata": {},
   "source": [
    "We are only interested in the NDVI values of forests, so we can use the created shapefile to mask out non-forest areas in the NDVI raster. and we can get one value to indicate \"how healthy the trees on Seurasaari were in end of September 2021\":"
   ]
  },
  {
   "cell_type": "code",
   "execution_count": null,
   "metadata": {},
   "outputs": [],
   "source": [
    "import rasterio.mask\n",
    "\n",
    "\n",
    "#open the Seurasaari NDVI file and use rasterio mask to mask out areas that are not forest\n",
    "with rasterio.open(\"./data/S2_NDVI_Seurasaari.tif\") as ndvi:\n",
    "    shapefilename = stb.get_reprojected_shapefilename(ndvi.crs, \"./data/forestmask_corine_seurasaari2.shp\")\n",
    "    \n",
    "    # we only want to regard polygons that have the value 1 (forest) that we can get from the raster_val field\n",
    "    with fiona.open(shapefilename, \"r\") as shapefile:\n",
    "        shapes = [feature[\"geometry\"] for feature in shapefile if feature['properties']['raster_val'] == 1]\n",
    "    \n",
    "    out_image, out_transform = rasterio.mask.mask(ndvi, shapes, crop=True, nodata=np.nan)\n",
    "    out_meta = ndvi.meta.copy()\n",
    "\n",
    "print('Mean NDVI value of Seurasaari forests in September 2021:')\n",
    "print(np.nanmean(out_image))"
   ]
  },
  {
   "cell_type": "markdown",
   "metadata": {},
   "source": [
    "Seems like the trees on Seurasaari are healthy and green :)"
   ]
  },
  {
   "cell_type": "markdown",
   "metadata": {},
   "source": [
    "## Keypoints\n",
    "\n",
    "* you can do almost anything to geospatial rasters with rasterio\n",
    "* single bands can be read into numpy arrays and handled as such for e.g band maths\n",
    "* use mask to crop a rasterfile with a shapefile\n",
    "* rasterstats.zonal_statistics is helpful when you want to summarize raster pixel values within polygons"
   ]
  },
  {
   "cell_type": "markdown",
   "metadata": {},
   "source": [
    "## References\n",
    "\n",
    "Inspiration and further reading\n",
    "\n",
    "    * https://autogis-site.readthedocs.io/en/latest/lessons/Raster/overview.html\n",
    "    * https://www.earthdatascience.org/courses/use-data-open-source-python/intro-raster-data-python/\n",
    "    * https://carpentries-incubator.github.io/geospatial-python/05-raster-structure/\n",
    "    * https://geohackweek.github.io/raster/04-workingwithrasters/\n",
    "    * https://kodu.ut.ee/~kmoch/geopython2019/L4/raster.html\n",
    "    * https://geoscripting-wur.github.io/PythonRaster/\n",
    "    * https://pysal.org/scipy2019-intermediate-gds/deterministic/gds2-rasters.html\n",
    "    * https://geobgu.xyz/py/rasterio.html\n",
    "    * https://snowex-hackweek.github.io/website/tutorials/geospatial/raster.html\n",
    "    * Raster data intro: https://carpentries-incubator.github.io/geospatial-python/01-intro-raster-data/index.html\n",
    "    * sample raster values at specific coordinates: https://hackernoon.com/sampling-raster-values-at-specific-coordinates-with-python\n",
    "    * Virtual Rasters: https://docs.csc.fi/support/tutorials/gis/virtual-rasters/\n",
    "    * Great collection of Geospatial Python resources: https://github.com/giswqs/python-geospatial"
   ]
  }
 ],
 "metadata": {
  "interpreter": {
   "hash": "934693bf3302e0c65b22f89b7f3cbe19cc8282fc0a41881e9819d8986ae2d1e4"
  },
  "kernelspec": {
   "display_name": "Python 3",
   "language": "python",
   "name": "python3"
  },
  "language_info": {
   "codemirror_mode": {
    "name": "ipython",
    "version": 3
   },
   "file_extension": ".py",
   "mimetype": "text/x-python",
   "name": "python",
   "nbconvert_exporter": "python",
   "pygments_lexer": "ipython3",
   "version": "3.8.12"
  }
 },
 "nbformat": 4,
 "nbformat_minor": 4
}
